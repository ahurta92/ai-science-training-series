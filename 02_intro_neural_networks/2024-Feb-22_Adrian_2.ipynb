{
 "cells": [
  {
   "cell_type": "code",
   "execution_count": 1,
   "id": "c84d73f223da5d79",
   "metadata": {
    "ExecuteTime": {
     "end_time": "2024-02-22T16:25:42.000829558Z",
     "start_time": "2024-02-22T16:25:40.013890299Z"
    },
    "collapsed": false,
    "jupyter": {
     "outputs_hidden": false
    }
   },
   "outputs": [],
   "source": [
    "%matplotlib inline\n",
    "\n",
    "import torch\n",
    "import torchvision\n",
    "from torch import nn\n",
    "import numpy \n",
    "import matplotlib.pyplot as plt\n",
    "import time\n",
    "import torchvision.transforms as transforms\n",
    "from torch.utils.data import DataLoader\n",
    "import torch.nn.functional as F\n",
    "from torch.utils.data import DataLoader\n",
    "from torch.optim import Adam\n",
    "\n",
    "from torch.optim import Adam\n",
    "\n"
   ]
  },
  {
   "cell_type": "code",
   "execution_count": 2,
   "id": "ed9bdad4408a9b5c",
   "metadata": {
    "ExecuteTime": {
     "end_time": "2024-02-22T16:41:04.888168368Z",
     "start_time": "2024-02-22T16:41:04.836296491Z"
    },
    "collapsed": false,
    "jupyter": {
     "outputs_hidden": false
    }
   },
   "outputs": [],
   "source": [
    "\n",
    "def load_MNIST(data_transform, train=True):\n",
    "    return torchvision.datasets.MNIST(\n",
    "        root='./data',\n",
    "        train=train,\n",
    "        download=True,\n",
    "        transform=data_transform\n",
    "    )\n",
    "\n",
    "def load_transformed_MNIST(img_size, batch_size, train=True):\n",
    "    data_transforms = [\n",
    "        transforms.Resize((img_size, img_size)),\n",
    "        transforms.ToTensor(),  # Scales data into [0,1]\n",
    "        transforms.RandomHorizontalFlip(),\n",
    "        transforms.Lambda(lambda t: (t * 2) - 1)  # Scale between [-1, 1]\n",
    "    ]\n",
    "    data_transform = transforms.Compose(data_transforms)\n",
    "    data = load_MNIST(data_transform, train)\n",
    "    dataloader = DataLoader(data, batch_size=batch_size, shuffle=True, drop_last=True)\n",
    "    return data, dataloader\n"
   ]
  },
  {
   "cell_type": "code",
   "execution_count": 3,
   "id": "4959d6ce79534e5f",
   "metadata": {
    "ExecuteTime": {
     "end_time": "2024-02-22T16:41:15.245302450Z",
     "start_time": "2024-02-22T16:41:15.233400377Z"
    },
    "collapsed": false,
    "jupyter": {
     "outputs_hidden": false
    }
   },
   "outputs": [],
   "source": [
    "device= torch.device(\"cuda\" if torch.cuda.is_available() else \"cpu\")"
   ]
  },
  {
   "cell_type": "code",
   "execution_count": 4,
   "id": "3c6320a64644d076",
   "metadata": {
    "ExecuteTime": {
     "end_time": "2024-02-22T16:41:49.082995069Z",
     "start_time": "2024-02-22T16:41:49.030786081Z"
    },
    "collapsed": false,
    "jupyter": {
     "outputs_hidden": false
    }
   },
   "outputs": [],
   "source": [
    "train_data, train_dataloader = load_transformed_MNIST(28, 64, train=True)\n",
    "test_data, test_dataloader = load_transformed_MNIST(28, 64, train=False)\n"
   ]
  },
  {
   "cell_type": "code",
   "execution_count": 5,
   "id": "4a336137c441afb3",
   "metadata": {
    "ExecuteTime": {
     "end_time": "2024-02-22T16:43:08.722935126Z",
     "start_time": "2024-02-22T16:43:08.412190656Z"
    },
    "collapsed": false,
    "jupyter": {
     "outputs_hidden": false
    }
   },
   "outputs": [
    {
     "data": {
      "image/png": "[encoded data removed]",
      "text/plain": [
       "<Figure size 800x800 with 9 Axes>"
      ]
     },
     "metadata": {},
     "output_type": "display_data"
    }
   ],
   "source": [
    "figure=plt.figure(figsize=(8,8))\n",
    "cols, rows = 3, 3\n",
    "for i in range(1, cols * rows + 1):\n",
    "    sample_idx = torch.randint(len(train_dataloader), size=(1,)).item()\n",
    "    img, label = train_data[sample_idx]\n",
    "    figure.add_subplot(rows, cols, i)\n",
    "    plt.title(label)\n",
    "    plt.axis(\"off\")\n",
    "    plt.imshow(img.squeeze(), cmap=\"gray\")\n",
    "plt.show()"
   ]
  },
  {
   "cell_type": "code",
   "execution_count": null,
   "id": "3bf4ce174b45678a",
   "metadata": {
    "ExecuteTime": {
     "end_time": "2024-02-22T16:43:18.172916246Z",
     "start_time": "2024-02-22T16:43:18.163098271Z"
    },
    "collapsed": false,
    "jupyter": {
     "outputs_hidden": false
    }
   },
   "outputs": [],
   "source": []
  },
  {
   "cell_type": "code",
   "execution_count": 6,
   "id": "27e4551e8a3afec8",
   "metadata": {
    "ExecuteTime": {
     "end_time": "2024-02-22T16:43:18.716785455Z",
     "start_time": "2024-02-22T16:43:18.713879251Z"
    },
    "collapsed": false,
    "jupyter": {
     "outputs_hidden": false
    }
   },
   "outputs": [],
   "source": [
    "class NonlinearClassifier(nn.Module):\n",
    "\n",
    "    def __init__(self):\n",
    "        super().__init__()\n",
    "        self.flatten = nn.Flatten()\n",
    "        self.layers_stack = nn.Sequential(\n",
    "            nn.Linear(28*28, 50),\n",
    "            nn.ReLU(),\n",
    "            #nn.Dropout(0.2),\n",
    "            nn.Linear(50, 50),\n",
    "            nn.ReLU(),\n",
    "            #nn.Dropout(0.2),\n",
    "            nn.Linear(50, 10)\n",
    "        )\n",
    "        \n",
    "    def forward(self, x):\n",
    "        x = self.flatten(x)\n",
    "        x = self.layers_stack(x)\n",
    "\n",
    "        return x\n"
   ]
  },
  {
   "cell_type": "code",
   "execution_count": 7,
   "id": "fe499ff117fb8429",
   "metadata": {
    "ExecuteTime": {
     "end_time": "2024-02-22T16:43:21.213560956Z",
     "start_time": "2024-02-22T16:43:21.210335754Z"
    },
    "collapsed": false,
    "jupyter": {
     "outputs_hidden": false
    }
   },
   "outputs": [],
   "source": [
    "loss_fn=nn.CrossEntropyLoss()"
   ]
  },
  {
   "cell_type": "code",
   "execution_count": 8,
   "id": "76754531806cb291",
   "metadata": {
    "ExecuteTime": {
     "end_time": "2024-02-22T16:43:25.291604887Z",
     "start_time": "2024-02-22T16:43:25.246789648Z"
    },
    "collapsed": false,
    "jupyter": {
     "outputs_hidden": false
    }
   },
   "outputs": [],
   "source": [
    "model = torch.compile(NonlinearClassifier().to(device))"
   ]
  },
  {
   "cell_type": "code",
   "execution_count": 9,
   "id": "6120a2e3dc3d5dd2",
   "metadata": {
    "ExecuteTime": {
     "end_time": "2024-02-22T16:43:29.291306268Z",
     "start_time": "2024-02-22T16:43:29.285405641Z"
    },
    "collapsed": false,
    "jupyter": {
     "outputs_hidden": false
    }
   },
   "outputs": [],
   "source": [
    "def evaluate(dataloader, model, loss_fn):\n",
    "    # Set the model to evaluation mode - some NN pieces behave differently during training\n",
    "    # Unnecessary in this situation but added for best practices\n",
    "    model.eval()\n",
    "    size = len(dataloader.dataset)\n",
    "    num_batches = len(dataloader)\n",
    "    loss, correct = 0, 0\n",
    "\n",
    "    # We can save computation and memory by not calculating gradients here - we aren't optimizing \n",
    "    with torch.no_grad():\n",
    "        # loop over all of the batches\n",
    "        for X, y in dataloader:\n",
    "            x=X.to(device)\n",
    "            y=y.to(device)\n",
    "            pred = model(x)\n",
    "            loss += loss_fn(pred, y).item()\n",
    "            # how many are correct in this batch? Tracking for accuracy \n",
    "            correct += (pred.argmax(1) == y).type(torch.float).sum().item()\n",
    "\n",
    "    loss /= num_batches\n",
    "    correct /= size\n",
    "    \n",
    "    accuracy = 100*correct\n",
    "    return accuracy, loss\n"
   ]
  },
  {
   "cell_type": "code",
   "execution_count": 10,
   "id": "878954180c81539d",
   "metadata": {
    "ExecuteTime": {
     "end_time": "2024-02-22T16:43:30.407798865Z",
     "start_time": "2024-02-22T16:43:30.401882930Z"
    },
    "collapsed": false,
    "jupyter": {
     "outputs_hidden": false
    }
   },
   "outputs": [],
   "source": [
    "\n",
    "model = torch.compile(NonlinearClassifier().to(device))\n"
   ]
  },
  {
   "cell_type": "code",
   "execution_count": 11,
   "id": "initial_id",
   "metadata": {
    "ExecuteTime": {
     "end_time": "2024-02-22T16:48:43.752011906Z",
     "start_time": "2024-02-22T16:44:17.340270534Z"
    }
   },
   "outputs": [
    {
     "name": "stderr",
     "output_type": "stream",
     "text": [
      "No CUDA runtime is found, using CUDA_HOME='/usr/local/cuda'\n"
     ]
    },
    {
     "name": "stdout",
     "output_type": "stream",
     "text": [
      "Epoch [1/3], Step [0], Loss: 2.2857, Accuracy: 10.57%, Val Loss: 2.2870, Val Accuracy: 10.15%\n",
      "Epoch [1/3], Step [100], Loss: 0.7839, Accuracy: 73.88%, Val Loss: 0.7559, Val Accuracy: 74.67%\n",
      "Epoch [1/3], Step [200], Loss: 0.6528, Accuracy: 78.29%, Val Loss: 0.6163, Val Accuracy: 79.53%\n",
      "Epoch [1/3], Step [300], Loss: 0.5709, Accuracy: 81.48%, Val Loss: 0.5402, Val Accuracy: 81.77%\n",
      "Epoch [1/3], Step [400], Loss: 0.5455, Accuracy: 82.40%, Val Loss: 0.5264, Val Accuracy: 82.57%\n",
      "Epoch [1/3], Step [500], Loss: 0.5158, Accuracy: 83.42%, Val Loss: 0.4946, Val Accuracy: 83.94%\n",
      "Epoch [1/3], Step [600], Loss: 0.4876, Accuracy: 84.50%, Val Loss: 0.4693, Val Accuracy: 85.13%\n",
      "Epoch [1/3], Step [700], Loss: 0.4658, Accuracy: 85.26%, Val Loss: 0.4454, Val Accuracy: 85.61%\n",
      "Epoch [1/3], Step [800], Loss: 0.4579, Accuracy: 85.07%, Val Loss: 0.4349, Val Accuracy: 85.59%\n",
      "Epoch [1/3], Step [900], Loss: 0.4330, Accuracy: 85.91%, Val Loss: 0.4139, Val Accuracy: 86.36%\n",
      "Epoch [2/3], Step [0], Loss: 0.4641, Accuracy: 84.73%, Val Loss: 0.4458, Val Accuracy: 85.53%\n",
      "Epoch [2/3], Step [100], Loss: 0.4204, Accuracy: 86.06%, Val Loss: 0.3980, Val Accuracy: 86.91%\n",
      "Epoch [2/3], Step [200], Loss: 0.4215, Accuracy: 86.22%, Val Loss: 0.3995, Val Accuracy: 86.87%\n",
      "Epoch [2/3], Step [300], Loss: 0.3886, Accuracy: 87.34%, Val Loss: 0.3672, Val Accuracy: 88.14%\n",
      "Epoch [2/3], Step [400], Loss: 0.3959, Accuracy: 87.60%, Val Loss: 0.3792, Val Accuracy: 88.07%\n",
      "Epoch [2/3], Step [500], Loss: 0.3754, Accuracy: 87.99%, Val Loss: 0.3530, Val Accuracy: 88.74%\n",
      "Epoch [2/3], Step [600], Loss: 0.3791, Accuracy: 87.52%, Val Loss: 0.3719, Val Accuracy: 87.93%\n",
      "Epoch [2/3], Step [700], Loss: 0.3819, Accuracy: 87.03%, Val Loss: 0.3712, Val Accuracy: 87.40%\n",
      "Epoch [2/3], Step [800], Loss: 0.3546, Accuracy: 88.51%, Val Loss: 0.3394, Val Accuracy: 89.06%\n",
      "Epoch [2/3], Step [900], Loss: 0.3413, Accuracy: 88.97%, Val Loss: 0.3400, Val Accuracy: 88.91%\n",
      "Epoch [3/3], Step [0], Loss: 0.3374, Accuracy: 88.82%, Val Loss: 0.3276, Val Accuracy: 89.10%\n",
      "Epoch [3/3], Step [100], Loss: 0.3222, Accuracy: 89.34%, Val Loss: 0.3111, Val Accuracy: 89.55%\n",
      "Epoch [3/3], Step [200], Loss: 0.3205, Accuracy: 89.42%, Val Loss: 0.3122, Val Accuracy: 90.02%\n",
      "Epoch [3/3], Step [300], Loss: 0.3060, Accuracy: 90.30%, Val Loss: 0.3051, Val Accuracy: 90.40%\n",
      "Epoch [3/3], Step [400], Loss: 0.3059, Accuracy: 90.12%, Val Loss: 0.2963, Val Accuracy: 90.41%\n",
      "Epoch [3/3], Step [500], Loss: 0.2969, Accuracy: 90.52%, Val Loss: 0.2928, Val Accuracy: 90.68%\n",
      "Epoch [3/3], Step [600], Loss: 0.3296, Accuracy: 89.00%, Val Loss: 0.3270, Val Accuracy: 88.88%\n",
      "Epoch [3/3], Step [700], Loss: 0.2834, Accuracy: 91.06%, Val Loss: 0.2807, Val Accuracy: 90.77%\n",
      "Epoch [3/3], Step [800], Loss: 0.2697, Accuracy: 91.38%, Val Loss: 0.2720, Val Accuracy: 91.49%\n",
      "Epoch [3/3], Step [900], Loss: 0.2859, Accuracy: 90.86%, Val Loss: 0.2906, Val Accuracy: 90.56%\n"
     ]
    }
   ],
   "source": [
    "optimizer = Adam(model.parameters(), lr=0.001)\n",
    "epochs = 3\n",
    "ncols = 15  # Should evenly divide T\n",
    "\n",
    "model.train()\n",
    "for epoch in range(epochs):\n",
    "    for step, (x,y) in enumerate(train_dataloader):\n",
    "        optimizer.zero_grad()\n",
    "        x = x.to(device)\n",
    "        y=y.to(device)\n",
    "        pred = model(x)\n",
    "        loss=loss_fn(pred, y)\n",
    "        loss.backward()\n",
    "        optimizer.step()\n",
    "        if step % 100 == 0:\n",
    "            accuracy, loss = evaluate(train_dataloader, model, loss_fn)\n",
    "            val_accuracy, val_loss = evaluate(test_dataloader, model, loss_fn)\n",
    "            # Print the progress with train and test accuracy\n",
    "            print(f\"Epoch [{epoch+1}/{epochs}], Step [{step}], Loss: {loss:.4f}, Accuracy: {accuracy:.2f}%, Val Loss: {val_loss:.4f}, Val Accuracy: {val_accuracy:.2f}%\")\n",
    "            \n",
    "\n"
   ]
  },
  {
   "cell_type": "code",
   "execution_count": 31,
   "id": "c2ef61fa9efada85",
   "metadata": {
    "ExecuteTime": {
     "end_time": "2024-02-22T16:36:35.976170434Z",
     "start_time": "2024-02-22T16:36:35.967295841Z"
    },
    "collapsed": false,
    "jupyter": {
     "outputs_hidden": false
    }
   },
   "outputs": [
    {
     "data": {
      "text/plain": [
       "torch.Size([1, 28, 28])"
      ]
     },
     "execution_count": 31,
     "metadata": {},
     "output_type": "execute_result"
    }
   ],
   "source": []
  },
  {
   "cell_type": "code",
   "execution_count": 14,
   "id": "fb86f3f4c70b8c36",
   "metadata": {
    "ExecuteTime": {
     "end_time": "2024-02-22T16:28:20.915277275Z",
     "start_time": "2024-02-22T16:28:20.664321332Z"
    },
    "collapsed": false,
    "jupyter": {
     "outputs_hidden": false
    }
   },
   "outputs": [
    {
     "name": "stdout",
     "output_type": "stream",
     "text": [
      "Thu Feb 22 11:28:20 2024       \r\n",
      "+---------------------------------------------------------------------------------------+\r\n",
      "| NVIDIA-SMI 545.29.06              Driver Version: 545.29.06    CUDA Version: 12.3     |\r\n",
      "|-----------------------------------------+----------------------+----------------------+\r\n",
      "| GPU  Name                 Persistence-M | Bus-Id        Disp.A | Volatile Uncorr. ECC |\r\n",
      "| Fan  Temp   Perf          Pwr:Usage/Cap |         Memory-Usage | GPU-Util  Compute M. |\r\n",
      "|                                         |                      |               MIG M. |\r\n",
      "|=========================================+======================+======================|\r\n",
      "|   0  NVIDIA GeForce RTX 3050 ...    Off | 00000000:01:00.0 Off |                  N/A |\r\n",
      "| N/A   65C    P8               7W /  40W |    138MiB /  4096MiB |      0%      Default |\r\n",
      "|                                         |                      |                  N/A |\r\n",
      "+-----------------------------------------+----------------------+----------------------+\r\n",
      "                                                                                         \r\n",
      "+---------------------------------------------------------------------------------------+\r\n",
      "| Processes:                                                                            |\r\n",
      "|  GPU   GI   CI        PID   Type   Process name                            GPU Memory |\r\n",
      "|        ID   ID                                                             Usage      |\r\n",
      "|=======================================================================================|\r\n",
      "|    0   N/A  N/A     26618      C   ...aconda3/envs/ai-training/bin/python      132MiB |\r\n",
      "+---------------------------------------------------------------------------------------+\r\n"
     ]
    }
   ],
   "source": [
    "!nvidia-smi"
   ]
  },
  {
   "cell_type": "code",
   "execution_count": 20,
   "id": "78ce0d052b5858de",
   "metadata": {
    "ExecuteTime": {
     "end_time": "2024-02-22T16:24:30.938110447Z",
     "start_time": "2024-02-22T16:24:30.847777344Z"
    },
    "collapsed": false,
    "jupyter": {
     "outputs_hidden": false
    }
   },
   "outputs": [
    {
     "data": {
      "text/plain": [
       "{'status': 'ok', 'restart': True}"
      ]
     },
     "execution_count": 20,
     "metadata": {},
     "output_type": "execute_result"
    }
   ],
   "source": [
    "import IPython\n",
    "\n",
    "app = IPython.Application.instance()\n",
    "app.kernel.do_shutdown(True)\n"
   ]
  },
  {
   "cell_type": "code",
   "execution_count": null,
   "id": "5dcc4222638c477e",
   "metadata": {
    "collapsed": false,
    "jupyter": {
     "outputs_hidden": false
    }
   },
   "outputs": [],
   "source": []
  }
 ],
 "metadata": {
  "kernelspec": {
   "display_name": "Python 3 (ipykernel)",
   "language": "python",
   "name": "python3"
  },
  "language_info": {
   "codemirror_mode": {
    "name": "ipython",
    "version": 3
   },
   "file_extension": ".py",
   "mimetype": "text/x-python",
   "name": "python",
   "nbconvert_exporter": "python",
   "pygments_lexer": "ipython3",
   "version": "3.10.13"
  }
 },
 "nbformat": 4,
 "nbformat_minor": 5
}
