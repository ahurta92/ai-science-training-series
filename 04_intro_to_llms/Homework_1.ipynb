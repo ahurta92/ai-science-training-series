{
 "cells": [
  {
   "cell_type": "markdown",
   "metadata": {},
   "source": [
    "### Let's write an elementary tokenizer that uses words as tokens.\n",
    "\n",
    "We will use Mark Twain's _Life On The Mississippi_ as a test bed. The text is in the accompanying file 'Life_On_The_Mississippi.txt'\n",
    "\n",
    "Here's a not-terribly-good such tokenizer:"
   ]
  },
  {
   "cell_type": "code",
   "execution_count": 87,
   "metadata": {},
   "outputs": [
    {
     "name": "stdout",
     "output_type": "stream",
     "text": [
      "('the', 10148)\n",
      "('project', 90)\n",
      "('gutenberg', 96)\n",
      "('ebook', 13)\n",
      "('of', 4546)\n",
      "('life', 95)\n",
      "('on', 962)\n",
      "('mississippi', 169)\n",
      "('this', 795)\n",
      "('is', 1163)\n",
      "('for', 1123)\n",
      "('use', 51)\n",
      "('anone', 5)\n",
      "('anwhere', 18)\n",
      "('in', 2622)\n",
      "('united', 37)\n",
      "('states', 52)\n",
      "('and', 6032)\n",
      "('most', 125)\n",
      "('other', 277)\n",
      "('parts', 9)\n",
      "('world', 75)\n",
      "('at', 755)\n",
      "('no', 447)\n",
      "('cost', 26)\n",
      "('with', 1096)\n",
      "('almost', 38)\n",
      "('restrictions', 2)\n",
      "('whatsoever', 2)\n",
      "('ou', 1114)\n",
      "('ma', 93)\n",
      "('cop', 17)\n",
      "('it', 2404)\n",
      "('give', 83)\n",
      "('awa', 175)\n",
      "('or', 592)\n",
      "('re', 23)\n",
      "('under', 122)\n",
      "('terms', 27)\n",
      "('license', 27)\n",
      "('included', 3)\n",
      "('online', 4)\n",
      "('www', 9)\n",
      "('org', 11)\n",
      "('if', 384)\n",
      "('are', 389)\n",
      "('not', 735)\n",
      "('located', 9)\n",
      "('will', 303)\n",
      "('have', 572)\n",
      "('to', 3633)\n",
      "('check', 4)\n",
      "('laws', 20)\n",
      "('countr', 77)\n",
      "('where', 180)\n",
      "('before', 214)\n",
      "('using', 11)\n",
      "('title', 3)\n",
      "('author', 3)\n",
      "('mark', 21)\n",
      "('twain', 28)\n",
      "('release', 1)\n",
      "('date', 18)\n",
      "('jul', 7)\n",
      "('10', 11)\n",
      "('2004', 1)\n",
      "('245', 1)\n",
      "('recentl', 4)\n",
      "('updated', 2)\n",
      "('januar', 3)\n",
      "('1', 61)\n",
      "('2021', 1)\n",
      "('language', 13)\n",
      "('english', 13)\n",
      "('credits', 1)\n",
      "('produced', 22)\n",
      "('b', 762)\n",
      "('david', 2)\n",
      "('widger', 2)\n",
      "('earliest', 7)\n",
      "('pg', 3)\n",
      "('text', 4)\n",
      "('edition', 4)\n",
      "('graham', 2)\n",
      "('allan', 2)\n",
      "('start', 33)\n",
      "('table', 10)\n",
      "('contents', 6)\n",
      "('chapter', 125)\n",
      "('i', 2376)\n",
      "('well', 203)\n",
      "('worth', 43)\n",
      "('reading', 16)\n",
      "('about', 353)\n",
      "('remarkable', 14)\n",
      "('instead', 25)\n",
      "('widening', 2)\n",
      "('towards', 9)\n",
      "('its', 281)\n",
      "('mouth', 54)\n"
     ]
    }
   ],
   "source": [
    "wdict = {}\n",
    "with open('Life_On_The_Mississippi.txt', 'r') as L:\n",
    "    line = L.readline()\n",
    "    line=line.lower()\n",
    "    not_ascii=r'[^\\x00-x7f]+'\n",
    "    translate_table=line.maketrans(string.punctuation,' '*len(string.punctuation))\n",
    "    nlines = 1\n",
    "    while line:\n",
    "        line=line.lower()\n",
    "        line=regex.sub(not_ascii,'',line).translate(translate_table)\n",
    "\n",
    "        words = line.split()\n",
    "        \n",
    "        for word in words:\n",
    "            if wdict.get(word) is not None:\n",
    "                wdict[word] += 1\n",
    "            else:\n",
    "                wdict[word] = 1\n",
    "        line = L.readline()\n",
    "        nlines += 1\n",
    "\n",
    "nitem = 0 ; maxitems = 100\n",
    "for item in wdict.items():\n",
    "    nitem += 1\n",
    "    print(item)\n",
    "    if nitem == maxitems: break\n"
   ]
  },
  {
   "cell_type": "markdown",
   "metadata": {},
   "source": [
    "This is unsatisfactory for a few reasons:\n",
    "\n",
    "* There are non-ASCII (Unicode) characters that should be stripped (the so-called \"Byte-Order Mark\" or BOM \\ufeff at the beginning of the text);\n",
    "\n",
    "* There are punctuation marks, which we don't want to concern ourselves with;\n",
    "\n",
    "* The same word can appear capitalized, or lower-case, or with its initial letter upper-cased, whereas we want them all to be normalized to lower-case.\n",
    "\n",
    "Part 1 of this assignment: insert code in this loop to operate on the str variable 'line' so as to fix these problems before 'line' is split into words.\n",
    "\n",
    "A hint to one possible way to do this: use the 'punctuation' character definition in the Python 'string' module, the 'maketrans' and 'translate' methods of Python's str class, to eliminate punctuation, and the regular expression ('re') Python module to eliminate any Unicode---it is useful to know that the regular expression r'[^\\x00-x7f]' means \"any character not in the vanilla ASCII set.\n",
    "\n",
    "Part 2: Add code to sort the contents of wdict by word occurrence frequency.  What are the top 100 most frequent word tokens?  Adding up occurrence frequencies starting from the most frequent words, how many distinct words make up the top 90% of word occurrences in this \"corpus\"?\n",
    "\n",
    "For this part, the docs of Python's 'sorted' and of the helper 'itemgetter' from 'operator' reward study.\n",
    "\n",
    "Write your modified code in the cell below."
   ]
  },
  {
   "cell_type": "code",
   "execution_count": 123,
   "metadata": {},
   "outputs": [
    {
     "name": "stdout",
     "output_type": "stream",
     "text": [
      "the\n",
      "and\n",
      "of\n",
      "a\n",
      "to\n",
      "in\n",
      "it\n",
      "i\n",
      "was\n",
      "that\n",
      "he\n",
      "is\n",
      "for\n",
      "ou\n",
      "with\n",
      "but\n",
      "his\n",
      "on\n",
      "had\n",
      "as\n",
      "this\n",
      "b\n",
      "at\n",
      "all\n",
      "not\n",
      "one\n",
      "s\n",
      "an\n",
      "there\n",
      "be\n",
      "m\n",
      "were\n",
      "or\n",
      "from\n",
      "have\n",
      "so\n",
      "out\n",
      "we\n",
      "up\n",
      "me\n",
      "him\n",
      "when\n",
      "river\n",
      "which\n",
      "would\n",
      "t\n",
      "no\n",
      "them\n",
      "then\n",
      "man\n",
      "said\n",
      "are\n",
      "if\n",
      "now\n",
      "their\n",
      "time\n",
      "about\n",
      "down\n",
      "been\n",
      "ever\n",
      "could\n",
      "what\n",
      "has\n",
      "two\n",
      "will\n",
      "into\n",
      "our\n",
      "her\n",
      "its\n",
      "other\n",
      "some\n",
      "do\n",
      "new\n",
      "water\n",
      "she\n",
      "more\n",
      "boat\n",
      "got\n",
      "these\n",
      "who\n",
      "can\n",
      "da\n",
      "wa\n",
      "did\n",
      "before\n",
      "here\n",
      "over\n",
      "hundred\n",
      "well\n",
      "old\n",
      "upon\n",
      "after\n",
      "pilot\n",
      "good\n",
      "through\n",
      "than\n",
      "get\n",
      "ears\n",
      "never\n",
      "went\n",
      "Above is printed the 100 most frequent words\n",
      "There are a total of 152320 occurances in the entire set\n",
      "Only 3018/12081 words make 90% of the occurances\n"
     ]
    }
   ],
   "source": [
    "# Part 2\n",
    "from operator import itemgetter\n",
    "sorted_words=sorted(wdict.items(),key=itemgetter(1),reverse=True)\n",
    "items=0\n",
    "max_items=100\n",
    "count=0\n",
    "for word,occ in sorted_words:\n",
    "    if items<100:\n",
    "        print(word)\n",
    "    items+=1\n",
    "    count+=occ\n",
    "total_count=count\n",
    "\n",
    "print(\"Above is printed the 100 most frequent words\")\n",
    "print(\"There are a total of {} occurances in the entire set\".format(total_count)) \n",
    "\n",
    "count=0\n",
    "items=0\n",
    "for word,occ in sorted_words:\n",
    "    items+=1\n",
    "    count+=occ\n",
    "    if count > .90*total_count: break\n",
    "        \n",
    "print(\"Only {}/{} words make 90% of the occurances\".format(items,len(sorted_words)))\n",
    "        \n",
    "\n",
    "\n",
    "\n",
    "\n"
   ]
  },
  {
   "cell_type": "code",
   "execution_count": 111,
   "metadata": {},
   "outputs": [
    {
     "data": {
      "text/plain": [
       "137088.0"
      ]
     },
     "execution_count": 111,
     "metadata": {},
     "output_type": "execute_result"
    }
   ],
   "source": [
    "                                                                                                                                    "
   ]
  },
  {
   "cell_type": "code",
   "execution_count": 88,
   "metadata": {},
   "outputs": [
    {
     "data": {
      "text/plain": [
       "'www.guttenberg.org'"
      ]
     },
     "execution_count": 88,
     "metadata": {},
     "output_type": "execute_result"
    }
   ],
   "source": [
    "# some work learning how to do part 1\n",
    "line=\"www.guttenberg.org\"\n",
    "line.translate('.')"
   ]
  },
  {
   "cell_type": "code",
   "execution_count": 39,
   "metadata": {},
   "outputs": [
    {
     "data": {
      "text/plain": [
       "'!\"#$%&\\'()*+,-./:;<=>?@[\\\\]^_`{|}~'"
      ]
     },
     "execution_count": 39,
     "metadata": {},
     "output_type": "execute_result"
    }
   ],
   "source": [
    "import string\n",
    "string.punctuation"
   ]
  },
  {
   "cell_type": "code",
   "execution_count": 51,
   "metadata": {},
   "outputs": [],
   "source": [
    "translate_table=line.maketrans(string.punctuation,' '*len(string.punctuation))"
   ]
  },
  {
   "cell_type": "code",
   "execution_count": 52,
   "metadata": {},
   "outputs": [
    {
     "data": {
      "text/plain": [
       "'www guttenberg org'"
      ]
     },
     "execution_count": 52,
     "metadata": {},
     "output_type": "execute_result"
    }
   ],
   "source": [
    "line.translate(translate_table)\n"
   ]
  },
  {
   "cell_type": "code",
   "execution_count": 50,
   "metadata": {},
   "outputs": [
    {
     "data": {
      "text/plain": [
       "{42: 126}"
      ]
     },
     "execution_count": 50,
     "metadata": {},
     "output_type": "execute_result"
    }
   ],
   "source": [
    "translate_table"
   ]
  },
  {
   "cell_type": "code",
   "execution_count": 44,
   "metadata": {},
   "outputs": [
    {
     "data": {
      "text/plain": [
       "'********************************'"
      ]
     },
     "execution_count": 44,
     "metadata": {},
     "output_type": "execute_result"
    }
   ],
   "source": [
    "'*'*len(string.punctuation)"
   ]
  },
  {
   "cell_type": "code",
   "execution_count": 75,
   "metadata": {},
   "outputs": [],
   "source": [
    "uline='\\ufeffthe'\n",
    "not_ascii=r'[^\\x00-x7f]+'"
   ]
  },
  {
   "cell_type": "code",
   "execution_count": 76,
   "metadata": {},
   "outputs": [],
   "source": [
    "import regex as re"
   ]
  },
  {
   "cell_type": "code",
   "execution_count": 83,
   "metadata": {},
   "outputs": [],
   "source": [
    "sub=regex.sub(not_ascii,'',uline).translate(tranlate_table)"
   ]
  },
  {
   "cell_type": "code",
   "execution_count": 84,
   "metadata": {},
   "outputs": [
    {
     "data": {
      "text/plain": [
       "'the'"
      ]
     },
     "execution_count": 84,
     "metadata": {},
     "output_type": "execute_result"
    }
   ],
   "source": [
    "sub"
   ]
  },
  {
   "cell_type": "code",
   "execution_count": null,
   "metadata": {},
   "outputs": [],
   "source": []
  },
  {
   "cell_type": "code",
   "execution_count": null,
   "metadata": {},
   "outputs": [],
   "source": []
  }
 ],
 "metadata": {
  "kernelspec": {
   "display_name": "Python 3 (ipykernel)",
   "language": "python",
   "name": "python3"
  },
  "language_info": {
   "codemirror_mode": {
    "name": "ipython",
    "version": 3
   },
   "file_extension": ".py",
   "mimetype": "text/x-python",
   "name": "python",
   "nbconvert_exporter": "python",
   "pygments_lexer": "ipython3",
   "version": "3.10.13"
  }
 },
 "nbformat": 4,
 "nbformat_minor": 4
}
